{
  "metadata": {
    "kernelspec": {
      "language": "python",
      "display_name": "Python 3",
      "name": "python3"
    },
    "language_info": {
      "pygments_lexer": "ipython3",
      "nbconvert_exporter": "python",
      "version": "3.6.4",
      "file_extension": ".py",
      "codemirror_mode": {
        "name": "ipython",
        "version": 3
      },
      "name": "python",
      "mimetype": "text/x-python"
    },
    "colab": {
      "provenance": []
    }
  },
  "nbformat_minor": 0,
  "nbformat": 4,
  "cells": [
    {
      "source": [
        "\n",
        "# IMPORTANT: RUN THIS CELL IN ORDER TO IMPORT YOUR KAGGLE DATA SOURCES\n",
        "# TO THE CORRECT LOCATION (/kaggle/input) IN YOUR NOTEBOOK,\n",
        "# THEN FEEL FREE TO DELETE THIS CELL.\n",
        "# NOTE: THIS NOTEBOOK ENVIRONMENT DIFFERS FROM KAGGLE'S PYTHON\n",
        "# ENVIRONMENT SO THERE MAY BE MISSING LIBRARIES USED BY YOUR\n",
        "# NOTEBOOK.\n",
        "\n",
        "import os\n",
        "import sys\n",
        "from tempfile import NamedTemporaryFile\n",
        "from urllib.request import urlopen\n",
        "from urllib.parse import unquote, urlparse\n",
        "from urllib.error import HTTPError\n",
        "from zipfile import ZipFile\n",
        "import tarfile\n",
        "import shutil\n",
        "\n",
        "CHUNK_SIZE = 40960\n",
        "DATA_SOURCE_MAPPING = 'digit-recognizer:https%3A%2F%2Fstorage.googleapis.com%2Fkaggle-competitions-data%2Fkaggle-v2%2F3004%2F861823%2Fbundle%2Farchive.zip%3FX-Goog-Algorithm%3DGOOG4-RSA-SHA256%26X-Goog-Credential%3Dgcp-kaggle-com%2540kaggle-161607.iam.gserviceaccount.com%252F20240405%252Fauto%252Fstorage%252Fgoog4_request%26X-Goog-Date%3D20240405T060255Z%26X-Goog-Expires%3D259200%26X-Goog-SignedHeaders%3Dhost%26X-Goog-Signature%3D68f321a63893a15b7592170347c91a9ff2f5c7e8f3aab843d9a7834e1f31871a80b9169f3a39acf619d36b316a82118c130a24fa86d5282ee7ce1002f34a74627c05a0bda8fae943306c894851a3a696a38f430e8d94618d5a1f76c7f64e3de77f87f9aa2e9516a97b7e161b26e6fc349028e4a4db3e7e45fc614c56fb31795868d14083a7f362f6924c6a90a0de55e8f26838bd22f043b6fea8f89b0da28695f4182909ff15ac262da12527dcdc56bf6ef7c43b1c7d1de265e6c328fe4a6ba901eba82a57c2acb06fff6705c69d889b84268c9e21a8f53749047ce2043f20b519212a9d112c6b8bbb4fc267b749013d43fe6a6cd6e656f388cca36c9ba3dfcf'\n",
        "\n",
        "KAGGLE_INPUT_PATH='/kaggle/input'\n",
        "KAGGLE_WORKING_PATH='/kaggle/working'\n",
        "KAGGLE_SYMLINK='kaggle'\n",
        "\n",
        "!umount /kaggle/input/ 2> /dev/null\n",
        "shutil.rmtree('/kaggle/input', ignore_errors=True)\n",
        "os.makedirs(KAGGLE_INPUT_PATH, 0o777, exist_ok=True)\n",
        "os.makedirs(KAGGLE_WORKING_PATH, 0o777, exist_ok=True)\n",
        "\n",
        "try:\n",
        "  os.symlink(KAGGLE_INPUT_PATH, os.path.join(\"..\", 'input'), target_is_directory=True)\n",
        "except FileExistsError:\n",
        "  pass\n",
        "try:\n",
        "  os.symlink(KAGGLE_WORKING_PATH, os.path.join(\"..\", 'working'), target_is_directory=True)\n",
        "except FileExistsError:\n",
        "  pass\n",
        "\n",
        "for data_source_mapping in DATA_SOURCE_MAPPING.split(','):\n",
        "    directory, download_url_encoded = data_source_mapping.split(':')\n",
        "    download_url = unquote(download_url_encoded)\n",
        "    filename = urlparse(download_url).path\n",
        "    destination_path = os.path.join(KAGGLE_INPUT_PATH, directory)\n",
        "    try:\n",
        "        with urlopen(download_url) as fileres, NamedTemporaryFile() as tfile:\n",
        "            total_length = fileres.headers['content-length']\n",
        "            print(f'Downloading {directory}, {total_length} bytes compressed')\n",
        "            dl = 0\n",
        "            data = fileres.read(CHUNK_SIZE)\n",
        "            while len(data) > 0:\n",
        "                dl += len(data)\n",
        "                tfile.write(data)\n",
        "                done = int(50 * dl / int(total_length))\n",
        "                sys.stdout.write(f\"\\r[{'=' * done}{' ' * (50-done)}] {dl} bytes downloaded\")\n",
        "                sys.stdout.flush()\n",
        "                data = fileres.read(CHUNK_SIZE)\n",
        "            if filename.endswith('.zip'):\n",
        "              with ZipFile(tfile) as zfile:\n",
        "                zfile.extractall(destination_path)\n",
        "            else:\n",
        "              with tarfile.open(tfile.name) as tarfile:\n",
        "                tarfile.extractall(destination_path)\n",
        "            print(f'\\nDownloaded and uncompressed: {directory}')\n",
        "    except HTTPError as e:\n",
        "        print(f'Failed to load (likely expired) {download_url} to path {destination_path}')\n",
        "        continue\n",
        "    except OSError as e:\n",
        "        print(f'Failed to load {download_url} to path {destination_path}')\n",
        "        continue\n",
        "\n",
        "print('Data source import complete.')\n"
      ],
      "metadata": {
        "colab": {
          "base_uri": "https://localhost:8080/"
        },
        "id": "Rf7Qxq7t2y2e",
        "outputId": "4f6169d2-e89a-4773-f5da-5fd78b2c8fad"
      },
      "cell_type": "code",
      "outputs": [
        {
          "output_type": "stream",
          "name": "stdout",
          "text": [
            "Downloading digit-recognizer, 16054568 bytes compressed\n",
            "[==================================================] 16054568 bytes downloaded\n",
            "Downloaded and uncompressed: digit-recognizer\n",
            "Data source import complete.\n"
          ]
        }
      ],
      "execution_count": null
    },
    {
      "cell_type": "markdown",
      "source": [
        "## <center>Handwritten Digit Recognition (HDR) using Convolutional Neural [link text](https:// [link text](https://))Network (CNN) with Tensorflow</center>\n",
        "<center> <b>A Deep Learning Analysis with Real World Data</b> </center>"
      ],
      "metadata": {
        "id": "xX22-11u2y2n"
      }
    },
    {
      "cell_type": "markdown",
      "source": [
        "![digits_recognition_cnn.png](attachment:ab119fe8-5a50-4785-93a0-058d6a932b32.png)"
      ],
      "metadata": {
        "id": "SgfH1gh62y2o"
      }
    },
    {
      "cell_type": "markdown",
      "source": [
        "<a class=\"anchor\" id=\"bcImp\"></a>\n",
        "## <span style='color:rgb(205, 0, 153)'>Table of Contents</span>\n",
        "* [<b>Abstract</b>](#abstract)\n",
        "* [<b>Import the dependencies and load the dataset</b>](#importData)\n",
        "* [<b>Data overview</b>](#dOverview)\n",
        "     * [Dimension of train and test data](#dTrainTest)\n",
        "     * [Visualizing the data using TSNE](#visualizeTSNE)\n",
        "     * [Splitting data into training and validation dataset](#splitData)\n",
        "     * [Dimension of training and validation data](#dTrainVal)\n",
        "     * [Converting training, testing, and validation data into array](#reTrainTestVal)\n",
        "     * [Dimension of training, testing, and validation data after reshape](#dreshape)\n",
        "     * [<b>In summary</b>](#summaryData)\n",
        "* [<b>Explore the data</b>](#exploreData)\n",
        "     * [Visualise how the digits were written](#visualizeData)\n",
        "     * [Reshaping train, test, and validation data](#reshapeData)\n",
        "     * [Normalize train, test, and validation data](#normalizeData)\n",
        "     * [<b>In summary</b>](#summaryExploreData)\n",
        "* [<b>Build the CNN model to Classify Handwritten Digits</b>](#modeling)\n",
        "<a class=\"anchor\" id=\"modelAnchor\"></a>\n",
        "     * [Summary of the training model](#modelSummary)\n",
        "     * [Visualization of the model](#modelplot)\n",
        "     * [Compile the model using keras.optimizers.Adam](#compileModel)\n",
        "     * [Train the model](#trainModel)\n",
        "     * [<b>In summary</b>](#modelBuildSummary)\n",
        "* [<b>Model evaluation</b>](#modelEvaluation)\n",
        "<a class=\"anchor\" id=\"bcImp1\"></a>\n",
        "     * [Loss plot curve for training and validation dataset](#lossPlot)\n",
        "     * [Accuracy plot curve for training and validation dataset](#accuracyPlot)\n",
        "     * [<b>Evaluation of the model accuracy</b>](#accuracyEvaluation)\n",
        "         * [Performance of training dataset](#perfTrain)\n",
        "         * [Performance of validation dataset](#perfValidation)\n",
        "         * [Save and load the model](#saveModel)\n",
        "         * [Visualise validation predicted data on how the digits were written](#visualizevalidation)\n",
        "         * [Confusion matrix of validation dataset](#cmValidation)\n",
        "     * [<b>In summary</b>](#modelEvaluationSummary)\n",
        "* [<b>Model prediction on unseen dataset (test data)</b>](#modelprediction)\n",
        "     * [Visualise test predicted data how the digits were written](#visualizePredict)\n",
        "* [<b>Submission</b>](#submission)"
      ],
      "metadata": {
        "id": "ozl9z5872y2p"
      }
    },
    {
      "cell_type": "markdown",
      "source": [
        "## <span style='color:rgb(205, 0, 153)'>So, let's get started</span> 🧑👈🙏💪"
      ],
      "metadata": {
        "id": "a74g8IIa2y2p"
      }
    },
    {
      "cell_type": "markdown",
      "source": [
        "## <span style='color:rgb(205, 0, 153)'>1 | Abstract </span><a class=\"anchor\" id=\"abstract\"></a>\n",
        "<hr>\n",
        "\n",
        "### <b>Introduction</b>\n",
        "Handwritten Digit Recognition is the process of digitizing human handwritten digit images. It is a difficult task for the machine because handwritten digits are not perfect and can be made with a variety of flavors. In order to address this issue, we created HDR, which uses the image of a digit to identify the digit that is present in the image.\n",
        "\n",
        "In this project, we developed a [Convolutional Neural Network](https://en.wikipedia.org/wiki/Convolutional_neural_network) <code>(CNN)</code> model using <b>Tensorflow framework</b> to <b>Recognition of Handwritten Digit</b>.\n",
        "\n",
        "A convolutional neural network (CNN, or ConvNet) is a Deep Learning algorithm that can take in an input image, assign learnable weights and biases to various objects in the image and be able to distinguish one from the other.\n",
        "\n",
        "It is used to analyse visual imagery. <code>Object detection</code>, <code>face recognition</code>, <code>robotics</code>, <code>video analysis</code>, <code>segmentation</code>, <code>pattern recognition</code>, <code>natural language processing</code>, <code>spam detection</code>, <code>topic categorization</code>, <code>regression analysis</code>, <code>speech recognition</code>, <code>image classification</code> are some of the examples that can be done using Convolutional Neural Networking.\n",
        "### <b>Approach</b>\n",
        "We have used Sequential Keras model which has two pairs of <code>Convolution2D</code> and <code>MaxPooling2D</code> layers. The MaxPooling layer acts as a sort of downsampling using max values in a region instead of averaging. After that we will use Flatten layer to convert multidimensional parameters to vector.\n",
        "\n",
        "The last layer has a Dense layer with 10 Softmax outputs. The output represents the network guess. The 0-th output represents a probability that the input digit is 0, the 1-st output represents a probability that the input digit is 1 and so on...\n",
        "#### <b>Result</b>\n",
        "CNN performed well, providing validation accuracy and loss score of <code>98.9%%</code> and <code>4.5%</code> respectively.\n",
        "#### <b>Conclusion</b>\n",
        "Convolutional neural network (CNN, or ConvNet) can be used to predict Handwritten Digits reasonably. We have successfully developed Handwritten digit recognition with Python, Tensorflow, and Machine Learning libraries. Handwritten Digits have been recognized by more than <code>98.9%</code> validation accuracy.\n",
        "\n",
        "<b>Keywords</b> – convolutional neural network, mnist, deep learning, handwritten digits recognition."
      ],
      "metadata": {
        "id": "kOrSsX622y2q"
      }
    },
    {
      "cell_type": "markdown",
      "source": [
        "## <span style='color:rgb(205, 0, 153)'>2 | Import the dependencies and load the dataset </span> <a class=\"anchor\" id=\"importData\"></a>\n",
        "<hr>\n",
        "\n",
        "[Back to Table of Contents](#bcImp)\n",
        "\n",
        "We will import all of the modules that we will require to train our model."
      ],
      "metadata": {
        "id": "tw9hyj6e2y2q"
      }
    },
    {
      "cell_type": "code",
      "source": [
        "# This Python 3 environment comes with many helpful analytics libraries installed\n",
        "# It is defined by the kaggle/python Docker image: https://github.com/kaggle/docker-python\n",
        "\n",
        "import tensorflow as tf\n",
        "import matplotlib.pyplot as plt\n",
        "import seaborn as sn\n",
        "import numpy as np # linear algebra\n",
        "import pandas as pd # data processing, CSV file I/O (e.g. pd.read_csv)\n",
        "import math\n",
        "import datetime\n",
        "import platform\n",
        "\n",
        "# Input data files are available in the read-only \"../input/\" directory\n",
        "# For example, running this (by clicking run or pressing Shift+Enter) will list all files under the input directory\n",
        "\n",
        "import os\n",
        "for dirname, _, filenames in os.walk('/kaggle/input'):\n",
        "    for filename in filenames:\n",
        "        print(os.path.join(dirname, filename))"
      ],
      "metadata": {
        "execution": {
          "iopub.status.busy": "2022-07-30T03:32:23.174597Z",
          "iopub.execute_input": "2022-07-30T03:32:23.175356Z",
          "iopub.status.idle": "2022-07-30T03:32:23.185666Z",
          "shell.execute_reply.started": "2022-07-30T03:32:23.175317Z",
          "shell.execute_reply": "2022-07-30T03:32:23.184337Z"
        },
        "trusted": true,
        "id": "GbK_2nqo2y2r"
      },
      "execution_count": null,
      "outputs": []
    },
    {
      "cell_type": "code",
      "source": [
        "print('Python version:', platform.python_version())\n",
        "print('Tensorflow version:', tf.__version__)\n",
        "print('Keras version:', tf.keras.__version__)"
      ],
      "metadata": {
        "execution": {
          "iopub.status.busy": "2022-07-30T03:32:27.497925Z",
          "iopub.execute_input": "2022-07-30T03:32:27.498337Z",
          "iopub.status.idle": "2022-07-30T03:32:28.760872Z",
          "shell.execute_reply.started": "2022-07-30T03:32:27.498305Z",
          "shell.execute_reply": "2022-07-30T03:32:28.759452Z"
        },
        "trusted": true,
        "id": "LfskWBAq2y2r"
      },
      "execution_count": null,
      "outputs": []
    },
    {
      "cell_type": "code",
      "source": [
        "# Load the TensorBoard notebook extension.\n",
        "# %reload_ext tensorboard\n",
        "%load_ext tensorboard"
      ],
      "metadata": {
        "execution": {
          "iopub.status.busy": "2022-07-30T03:32:29.941254Z",
          "iopub.execute_input": "2022-07-30T03:32:29.941703Z",
          "iopub.status.idle": "2022-07-30T03:32:29.96266Z",
          "shell.execute_reply.started": "2022-07-30T03:32:29.941664Z",
          "shell.execute_reply": "2022-07-30T03:32:29.961714Z"
        },
        "trusted": true,
        "id": "JAz3C3ur2y2r"
      },
      "execution_count": null,
      "outputs": []
    },
    {
      "cell_type": "code",
      "source": [
        "# Clear any logs from previous runs.\n",
        "!rm -rf ./.logs/"
      ],
      "metadata": {
        "execution": {
          "iopub.status.busy": "2022-07-25T10:05:06.000462Z",
          "iopub.execute_input": "2022-07-25T10:05:06.000923Z",
          "iopub.status.idle": "2022-07-25T10:05:06.772814Z",
          "shell.execute_reply.started": "2022-07-25T10:05:06.000884Z",
          "shell.execute_reply": "2022-07-25T10:05:06.771144Z"
        },
        "trusted": true,
        "id": "EJ7jyvnP2y2r"
      },
      "execution_count": null,
      "outputs": []
    },
    {
      "cell_type": "code",
      "source": [
        "train = pd.read_csv('/kaggle/input/digit-recognizer/train.csv')\n",
        "test = pd.read_csv('/kaggle/input/digit-recognizer/test.csv')"
      ],
      "metadata": {
        "execution": {
          "iopub.status.busy": "2022-07-30T03:32:35.295269Z",
          "iopub.execute_input": "2022-07-30T03:32:35.295679Z",
          "iopub.status.idle": "2022-07-30T03:32:41.085847Z",
          "shell.execute_reply.started": "2022-07-30T03:32:35.295644Z",
          "shell.execute_reply": "2022-07-30T03:32:41.08485Z"
        },
        "trusted": true,
        "id": "F0wsTHm52y2r"
      },
      "execution_count": null,
      "outputs": []
    },
    {
      "cell_type": "markdown",
      "source": [
        "## <span style='color:rgb(205, 0, 153)'> 3 | Data Overview </span><a class=\"anchor\" id=\"dOverview\"></a>\n",
        "<hr>\n",
        "\n",
        "[Back to Table of Contents](#bcImp)\n",
        "\n",
        "The __MNIST dataset__ contains <code>42,000</code> training images of handwritten digits from __zero to nine (10 different classes)__ and <code>28,000</code> images for testing without the label identifier (for submission). These images are the grayscaled pixel value and are represented as a <code>28×28</code> matrix.\n",
        "\n",
        "### 3.1 | Dimension of train and test data <a class=\"anchor\" id=\"dTrainTest\"></a>\n",
        "[Back to Table of Contents](#bcImp)"
      ],
      "metadata": {
        "id": "lunOUoKo2y2s"
      }
    },
    {
      "cell_type": "code",
      "source": [
        "train.head()"
      ],
      "metadata": {
        "execution": {
          "iopub.status.busy": "2022-07-25T10:05:14.812143Z",
          "iopub.execute_input": "2022-07-25T10:05:14.812615Z",
          "iopub.status.idle": "2022-07-25T10:05:14.850793Z",
          "shell.execute_reply.started": "2022-07-25T10:05:14.812567Z",
          "shell.execute_reply": "2022-07-25T10:05:14.849402Z"
        },
        "trusted": true,
        "id": "57ChVBBD2y2s"
      },
      "execution_count": null,
      "outputs": []
    },
    {
      "cell_type": "code",
      "source": [
        "train.info(), train.shape"
      ],
      "metadata": {
        "execution": {
          "iopub.status.busy": "2022-07-25T10:05:21.445558Z",
          "iopub.execute_input": "2022-07-25T10:05:21.446661Z",
          "iopub.status.idle": "2022-07-25T10:05:21.519967Z",
          "shell.execute_reply.started": "2022-07-25T10:05:21.446613Z",
          "shell.execute_reply": "2022-07-25T10:05:21.518823Z"
        },
        "trusted": true,
        "id": "aJqiXVYp2y2s"
      },
      "execution_count": null,
      "outputs": []
    },
    {
      "cell_type": "code",
      "source": [
        "test.info(),  test.shape"
      ],
      "metadata": {
        "execution": {
          "iopub.status.busy": "2022-07-25T10:05:25.989556Z",
          "iopub.execute_input": "2022-07-25T10:05:25.990841Z",
          "iopub.status.idle": "2022-07-25T10:05:26.076071Z",
          "shell.execute_reply.started": "2022-07-25T10:05:25.990765Z",
          "shell.execute_reply": "2022-07-25T10:05:26.074874Z"
        },
        "trusted": true,
        "id": "NXagONi22y2s"
      },
      "execution_count": null,
      "outputs": []
    },
    {
      "cell_type": "code",
      "source": [
        "X = train.iloc[:, 1:785]\n",
        "y = train.iloc[:, 0]\n",
        "\n",
        "X_test = test.iloc[:, 0:784]"
      ],
      "metadata": {
        "execution": {
          "iopub.status.busy": "2022-07-30T03:33:12.562974Z",
          "iopub.execute_input": "2022-07-30T03:33:12.563501Z",
          "iopub.status.idle": "2022-07-30T03:33:12.575299Z",
          "shell.execute_reply.started": "2022-07-30T03:33:12.563454Z",
          "shell.execute_reply": "2022-07-30T03:33:12.573707Z"
        },
        "trusted": true,
        "id": "p4jj-X9z2y2s"
      },
      "execution_count": null,
      "outputs": []
    },
    {
      "cell_type": "markdown",
      "source": [
        "### <span style='color:rgb(205, 0, 153)'>3.2 | Visualizing the data using TSNE </span><a class=\"anchor\" id=\"visualizeTSNE\"></a>\n",
        "<hr>\n",
        "\n",
        "[Back to Table of Contents](#bcImp)\n",
        "\n",
        "<b>TSNE</b> - t-Distributed Stochastic Neighbor embedding. This is a dimensionality reduction algorithm that is designed to keep local structure in the high dimensional data set, but cares less about global structure. Here, we use it to go from the 784 pixel-dimension of the images to two dimensions. This makes plotting easier. The color scale is the original MNIST label and one can see that the separation of the labels is apparent."
      ],
      "metadata": {
        "id": "qlECcxp62y2s"
      }
    },
    {
      "cell_type": "code",
      "source": [
        "# WARNING: running t-SNE on the full data set takes a while.\n",
        "X_tsn = X/255\n",
        "\n",
        "from sklearn.manifold import TSNE\n",
        "tsne = TSNE()\n",
        "\n",
        "tsne_res = tsne.fit_transform(X_tsn)"
      ],
      "metadata": {
        "execution": {
          "iopub.status.busy": "2022-07-30T03:55:39.995121Z",
          "iopub.execute_input": "2022-07-30T03:55:39.995672Z",
          "iopub.status.idle": "2022-07-30T04:01:27.272569Z",
          "shell.execute_reply.started": "2022-07-30T03:55:39.995605Z",
          "shell.execute_reply": "2022-07-30T04:01:27.270507Z"
        },
        "trusted": true,
        "id": "YPjtL-d-2y2t"
      },
      "execution_count": null,
      "outputs": []
    },
    {
      "cell_type": "code",
      "source": [
        "plt.figure(figsize=(14, 12))\n",
        "plt.scatter(tsne_res[:,0], tsne_res[:,1], c=y, s=2)\n",
        "plt.xticks([])\n",
        "plt.yticks([])\n",
        "plt.colorbar();"
      ],
      "metadata": {
        "execution": {
          "iopub.status.busy": "2022-07-30T04:01:27.275935Z",
          "iopub.execute_input": "2022-07-30T04:01:27.276328Z",
          "iopub.status.idle": "2022-07-30T04:01:28.125385Z",
          "shell.execute_reply.started": "2022-07-30T04:01:27.276291Z",
          "shell.execute_reply": "2022-07-30T04:01:28.12288Z"
        },
        "trusted": true,
        "id": "BCiMyF3b2y2t"
      },
      "execution_count": null,
      "outputs": []
    },
    {
      "cell_type": "markdown",
      "source": [
        "### 3.3 | Splitting data into training and validation dataset<a class=\"anchor\" id=\"splitData\"></a>\n",
        "[Back to Table of Contents](#bcImp)\n",
        "\n",
        "We are dividing our dataset __(X)__ into two parts.\n",
        "<ol>\n",
        "    <li> The <b>training dataset (80%)</b> is used to fit our models</li>\n",
        "    <li>The <b>Validation dataset (20%)</b> is used to evaluate our models</li>\n",
        " </ol>\n",
        "\n",
        "<code>train_test_split()</code> method returns us the training data, its labels and also the validation data and its labels."
      ],
      "metadata": {
        "id": "pcSZT5bt2y2t"
      }
    },
    {
      "cell_type": "code",
      "source": [
        "from sklearn.model_selection import train_test_split\n",
        "X_train, X_validation, y_train, y_validation = train_test_split(X, y, test_size = 0.2,random_state = 1212)"
      ],
      "metadata": {
        "execution": {
          "iopub.status.busy": "2022-07-30T03:33:18.217037Z",
          "iopub.execute_input": "2022-07-30T03:33:18.217451Z",
          "iopub.status.idle": "2022-07-30T03:33:18.509205Z",
          "shell.execute_reply.started": "2022-07-30T03:33:18.217419Z",
          "shell.execute_reply": "2022-07-30T03:33:18.508153Z"
        },
        "trusted": true,
        "id": "wZ8O3xby2y2t"
      },
      "execution_count": null,
      "outputs": []
    },
    {
      "cell_type": "markdown",
      "source": [
        "### 3.4 | Dimension of training and validation data<a class=\"anchor\" id=\"dTrainVal\"></a>\n",
        "[Back to Table of Contents](#bcImp)"
      ],
      "metadata": {
        "id": "KtOjHz062y2t"
      }
    },
    {
      "cell_type": "code",
      "source": [
        "print('X_train:', X_train.shape)\n",
        "print('y_train:', y_train.shape)\n",
        "print('X_validation:', X_validation.shape)\n",
        "print('y_validation:', y_validation.shape)"
      ],
      "metadata": {
        "execution": {
          "iopub.status.busy": "2022-07-30T03:33:24.520605Z",
          "iopub.execute_input": "2022-07-30T03:33:24.521066Z",
          "iopub.status.idle": "2022-07-30T03:33:24.528559Z",
          "shell.execute_reply.started": "2022-07-30T03:33:24.521028Z",
          "shell.execute_reply": "2022-07-30T03:33:24.526999Z"
        },
        "trusted": true,
        "id": "kDnSu7Db2y2t"
      },
      "execution_count": null,
      "outputs": []
    },
    {
      "cell_type": "markdown",
      "source": [
        "### 3.5 | Converting training, testing, and validation data into array<a class=\"anchor\" id=\"reTrainTestVal\"></a>\n",
        "[Back to Table of Contents](#bcImp)"
      ],
      "metadata": {
        "id": "iufiZV-b2y2t"
      }
    },
    {
      "cell_type": "code",
      "source": [
        "x_train_re = X_train.to_numpy().reshape(33600, 28, 28)\n",
        "y_train_re = y_train.values\n",
        "x_validation_re = X_validation.to_numpy().reshape(8400, 28, 28)\n",
        "y_validation_re = y_validation.values\n",
        "x_test_re = test.to_numpy().reshape(28000, 28, 28)"
      ],
      "metadata": {
        "execution": {
          "iopub.status.busy": "2022-07-30T03:33:27.04788Z",
          "iopub.execute_input": "2022-07-30T03:33:27.048533Z",
          "iopub.status.idle": "2022-07-30T03:33:27.054994Z",
          "shell.execute_reply.started": "2022-07-30T03:33:27.048497Z",
          "shell.execute_reply": "2022-07-30T03:33:27.053672Z"
        },
        "trusted": true,
        "id": "P7NWX16w2y2t"
      },
      "execution_count": null,
      "outputs": []
    },
    {
      "cell_type": "markdown",
      "source": [
        "### 3.6 | Dimension of training, testing, and validation data after reshaping<a class=\"anchor\" id=\"dreshape\">\n",
        "[Back to Table of Contents](#bcImp)"
      ],
      "metadata": {
        "id": "Oz3UDE862y2t"
      }
    },
    {
      "cell_type": "code",
      "source": [
        "print('x_train:', x_train_re.shape)\n",
        "print('y_train:', y_train_re.shape)\n",
        "print('x_validation:', x_validation_re.shape)\n",
        "print('y_validation:', y_validation_re.shape)\n",
        "print('x_test:', x_test_re.shape)"
      ],
      "metadata": {
        "execution": {
          "iopub.status.busy": "2022-07-30T03:33:32.287603Z",
          "iopub.execute_input": "2022-07-30T03:33:32.288045Z",
          "iopub.status.idle": "2022-07-30T03:33:32.294714Z",
          "shell.execute_reply.started": "2022-07-30T03:33:32.288009Z",
          "shell.execute_reply": "2022-07-30T03:33:32.293842Z"
        },
        "trusted": true,
        "id": "uHVN8QTq2y2u"
      },
      "execution_count": null,
      "outputs": []
    },
    {
      "cell_type": "code",
      "source": [
        "# Save image parameters to the constants that we will use later for data re-shaping and for model traning.\n",
        "(_, IMAGE_WIDTH, IMAGE_HEIGHT) = x_train_re.shape\n",
        "IMAGE_CHANNELS = 1\n",
        "\n",
        "print('IMAGE_WIDTH:', IMAGE_WIDTH);\n",
        "print('IMAGE_HEIGHT:', IMAGE_HEIGHT);\n",
        "print('IMAGE_CHANNELS:', IMAGE_CHANNELS);"
      ],
      "metadata": {
        "execution": {
          "iopub.status.busy": "2022-07-30T03:33:34.409996Z",
          "iopub.execute_input": "2022-07-30T03:33:34.410487Z",
          "iopub.status.idle": "2022-07-30T03:33:34.41685Z",
          "shell.execute_reply.started": "2022-07-30T03:33:34.410448Z",
          "shell.execute_reply": "2022-07-30T03:33:34.415908Z"
        },
        "trusted": true,
        "id": "J-yd_uDK2y2u"
      },
      "execution_count": null,
      "outputs": []
    },
    {
      "cell_type": "markdown",
      "source": [
        " ### In summary <a class =\"anchor\" id =\"summaryData\"></a>\n",
        " [Back to Table of Contents](#bcImp)"
      ],
      "metadata": {
        "id": "t4lsoVPM2y2u"
      }
    },
    {
      "cell_type": "markdown",
      "source": [
        "## <span style='color:rgb(205, 0, 153)'> 4 | Explore the data </span><a class=\"anchor\" id=\"exploreData\">\n",
        "[Back to Table of Contents](#bcImp)\n",
        "    \n",
        "Here is how each image in the dataset looks like. It is a <code>28x28</code> matrix of integers (from 0 to 255) and each integer represents a color of a pixel."
      ],
      "metadata": {
        "id": "sHbczs432y2u"
      }
    },
    {
      "cell_type": "code",
      "source": [
        "pd.DataFrame(x_train_re[0])"
      ],
      "metadata": {
        "execution": {
          "iopub.status.busy": "2022-07-25T10:05:53.986012Z",
          "iopub.execute_input": "2022-07-25T10:05:53.98643Z",
          "iopub.status.idle": "2022-07-25T10:05:54.021669Z",
          "shell.execute_reply.started": "2022-07-25T10:05:53.986394Z",
          "shell.execute_reply": "2022-07-25T10:05:54.020555Z"
        },
        "trusted": true,
        "id": "kESOlpOV2y2u"
      },
      "execution_count": null,
      "outputs": []
    },
    {
      "cell_type": "markdown",
      "source": [
        "### 4.1 | Visualise how the digits were written <a class =\"anchor\" id=\"visualizeData\"></a>\n",
        "[Back to Table of Contents](#bcImp)\n",
        "\n",
        "This number matrix may be drawn as follows:"
      ],
      "metadata": {
        "id": "kkUir3cK2y2u"
      }
    },
    {
      "cell_type": "code",
      "source": [
        "plt.imshow(x_train_re[0], cmap=plt.cm.binary)\n",
        "plt.show()"
      ],
      "metadata": {
        "execution": {
          "iopub.status.busy": "2022-07-30T03:47:00.615441Z",
          "iopub.execute_input": "2022-07-30T03:47:00.616208Z",
          "iopub.status.idle": "2022-07-30T03:47:00.792481Z",
          "shell.execute_reply.started": "2022-07-30T03:47:00.616156Z",
          "shell.execute_reply": "2022-07-30T03:47:00.791157Z"
        },
        "trusted": true,
        "id": "A4QM3cND2y2u"
      },
      "execution_count": null,
      "outputs": []
    },
    {
      "cell_type": "markdown",
      "source": [
        "Our first record of training data represents 2."
      ],
      "metadata": {
        "id": "on-aS5mX2y2u"
      }
    },
    {
      "cell_type": "markdown",
      "source": [
        "Let's print some more training examples to get the feeling of how the digits were written."
      ],
      "metadata": {
        "id": "msZrtxne2y2u"
      }
    },
    {
      "cell_type": "code",
      "source": [
        "numbers_to_display = 100\n",
        "num_cells = math.ceil(math.sqrt(numbers_to_display))\n",
        "plt.figure(figsize=(20,20))\n",
        "for i in range(numbers_to_display):\n",
        "    plt.subplot(num_cells, num_cells, i+1)\n",
        "    plt.xticks([])\n",
        "    plt.yticks([])\n",
        "    plt.grid(False)\n",
        "    plt.imshow(x_train_re[i], cmap=plt.cm.binary)\n",
        "    plt.xlabel(y_train_re[i])\n",
        "plt.show()"
      ],
      "metadata": {
        "execution": {
          "iopub.status.busy": "2022-07-30T03:48:26.098594Z",
          "iopub.execute_input": "2022-07-30T03:48:26.099399Z",
          "iopub.status.idle": "2022-07-30T03:48:30.583849Z",
          "shell.execute_reply.started": "2022-07-30T03:48:26.099349Z",
          "shell.execute_reply": "2022-07-30T03:48:30.582635Z"
        },
        "trusted": true,
        "id": "y6pWSjhC2y2u"
      },
      "execution_count": null,
      "outputs": []
    },
    {
      "cell_type": "markdown",
      "source": [
        "### 4.2 | Reshaping train, test, and validation data <a class =\"anchor\" id = \"reshapeData\"></a>\n",
        "[Back to Table of Contents](#bcImp)\n",
        "\n",
        "In order to use convolution layers we need to reshape our data and add a color channel to it. As you've noticed currently every digit has a shape of (28, 28) which means that it is a 28x28 matrix of color values form 0 to 255. We need to reshape it to (28, 28, 1) shape so that each pixel potentially may have multiple channels (like Red, Green and Blue)."
      ],
      "metadata": {
        "id": "B8whfvJo2y2u"
      }
    },
    {
      "cell_type": "code",
      "source": [
        "x_train_with_chanels = x_train_re.reshape(\n",
        "    x_train_re.shape[0],\n",
        "    IMAGE_WIDTH,\n",
        "    IMAGE_HEIGHT,\n",
        "    IMAGE_CHANNELS\n",
        ")\n",
        "\n",
        "x_validation_with_chanels = x_validation_re.reshape(\n",
        "    x_validation_re.shape[0],\n",
        "    IMAGE_WIDTH,\n",
        "    IMAGE_HEIGHT,\n",
        "    IMAGE_CHANNELS\n",
        ")\n",
        "\n",
        "x_test_with_chanels = x_test_re.reshape(\n",
        "    x_test_re.shape[0],\n",
        "    IMAGE_WIDTH,\n",
        "    IMAGE_HEIGHT,\n",
        "    IMAGE_CHANNELS\n",
        ")"
      ],
      "metadata": {
        "execution": {
          "iopub.status.busy": "2022-07-25T16:09:28.152277Z",
          "iopub.execute_input": "2022-07-25T16:09:28.152648Z",
          "iopub.status.idle": "2022-07-25T16:09:28.159385Z",
          "shell.execute_reply.started": "2022-07-25T16:09:28.152618Z",
          "shell.execute_reply": "2022-07-25T16:09:28.158111Z"
        },
        "trusted": true,
        "id": "PrE74fjt2y2v"
      },
      "execution_count": null,
      "outputs": []
    },
    {
      "cell_type": "code",
      "source": [
        "print('x_train_with_chanels:', x_train_with_chanels.shape)\n",
        "print('x_validation_with_chanels:', x_validation_with_chanels.shape)\n",
        "print('x_test_with_chanels:', x_test_with_chanels.shape)"
      ],
      "metadata": {
        "execution": {
          "iopub.status.busy": "2022-07-25T16:09:32.806638Z",
          "iopub.execute_input": "2022-07-25T16:09:32.807096Z",
          "iopub.status.idle": "2022-07-25T16:09:32.814431Z",
          "shell.execute_reply.started": "2022-07-25T16:09:32.80706Z",
          "shell.execute_reply": "2022-07-25T16:09:32.813426Z"
        },
        "trusted": true,
        "id": "UNXteLVi2y2z"
      },
      "execution_count": null,
      "outputs": []
    },
    {
      "cell_type": "markdown",
      "source": [
        "### 4.3 | Normalize train, test, and validation data <a class =\"anchor\" id =\"normalizeData\"></a>\n",
        "[Back to Table of Contents](#bcImp)\n",
        "\n",
        "Here we're just trying to normalize from values range of [0...255] to [0...1]."
      ],
      "metadata": {
        "id": "CzEk7UM62y2z"
      }
    },
    {
      "cell_type": "code",
      "source": [
        "x_train_normalized = x_train_with_chanels / 255\n",
        "x_validation_normalized = x_validation_with_chanels / 255\n",
        "x_test_normalized = x_test_with_chanels / 255"
      ],
      "metadata": {
        "execution": {
          "iopub.status.busy": "2022-07-25T16:09:38.079061Z",
          "iopub.execute_input": "2022-07-25T16:09:38.079489Z",
          "iopub.status.idle": "2022-07-25T16:09:38.315341Z",
          "shell.execute_reply.started": "2022-07-25T16:09:38.079455Z",
          "shell.execute_reply": "2022-07-25T16:09:38.314067Z"
        },
        "trusted": true,
        "id": "V9OXtlGL2y2z"
      },
      "execution_count": null,
      "outputs": []
    },
    {
      "cell_type": "code",
      "source": [
        "# Let's check just one row from the 0th image to see color chanel values after normalization.\n",
        "x_train_normalized[0][10]"
      ],
      "metadata": {
        "execution": {
          "iopub.status.busy": "2022-07-25T10:06:26.917615Z",
          "iopub.execute_input": "2022-07-25T10:06:26.91848Z",
          "iopub.status.idle": "2022-07-25T10:06:26.927093Z",
          "shell.execute_reply.started": "2022-07-25T10:06:26.918431Z",
          "shell.execute_reply": "2022-07-25T10:06:26.925856Z"
        },
        "trusted": true,
        "id": "EDh2hi902y2z"
      },
      "execution_count": null,
      "outputs": []
    },
    {
      "cell_type": "markdown",
      "source": [
        "### In summary<a class =\"anchor\" id =\"summaryExploreData\"></a>\n",
        "[Back to Table of Contents](#bcImp)"
      ],
      "metadata": {
        "id": "ugiY5djk2y2z"
      }
    },
    {
      "cell_type": "markdown",
      "source": [
        "## <span style='color:rgb(205, 0, 153)'> 5 | Build the CNN model to Classify Handwritten Digits </span><a class = \"anchor\" id = \"modeling\"></a>\n",
        "<hr>\n",
        "\n",
        "[Back to Table of Contents](#modelAnchor)\n",
        "\n",
        "A Convolutional Neural Network model generally consists of convolutional and pooling layers.\n",
        "\n",
        "We are using Sequential Keras model which have two pairs of Convolution2D and MaxPooling2D layers. The MaxPooling layer acts as a sort of downsampling using max values in a region instead of averaging.\n",
        "\n",
        "After that we will use Flatten layer to convert multidimensional parameters to vector.\n",
        "\n",
        "The last layer will be a Dense layer with 10 Softmax outputs. The output represents the network guess. The 0-th output represents a probability that the input digit is 0, the 1-st output represents a probability that the input digit is 1 and so on..."
      ],
      "metadata": {
        "id": "uiioyywi2y2z"
      }
    },
    {
      "cell_type": "code",
      "source": [
        "model = tf.keras.models.Sequential()\n",
        "\n",
        "model.add(tf.keras.layers.Convolution2D(\n",
        "    input_shape=(IMAGE_WIDTH, IMAGE_HEIGHT, IMAGE_CHANNELS),\n",
        "    kernel_size=5,\n",
        "    filters=8,\n",
        "    strides=1,\n",
        "    activation=tf.keras.activations.relu,\n",
        "    kernel_initializer=tf.keras.initializers.VarianceScaling()\n",
        "))\n",
        "\n",
        "model.add(tf.keras.layers.MaxPooling2D(\n",
        "    pool_size=(2, 2),\n",
        "    strides=(2, 2)\n",
        "))\n",
        "\n",
        "model.add(tf.keras.layers.Convolution2D(\n",
        "    kernel_size=5,\n",
        "    filters=16,\n",
        "    strides=1,\n",
        "    activation=tf.keras.activations.relu,\n",
        "    kernel_initializer=tf.keras.initializers.VarianceScaling()\n",
        "))\n",
        "\n",
        "model.add(tf.keras.layers.MaxPooling2D(\n",
        "    pool_size=(2, 2),\n",
        "    strides=(2, 2)\n",
        "))\n",
        "\n",
        "model.add(tf.keras.layers.Flatten())\n",
        "\n",
        "model.add(tf.keras.layers.Dense(\n",
        "    units=128,\n",
        "    activation=tf.keras.activations.relu\n",
        "));\n",
        "\n",
        "model.add(tf.keras.layers.Dropout(0.2))\n",
        "\n",
        "model.add(tf.keras.layers.Dense(\n",
        "    units=10,\n",
        "    activation=tf.keras.activations.softmax,\n",
        "    kernel_initializer=tf.keras.initializers.VarianceScaling()\n",
        "))"
      ],
      "metadata": {
        "execution": {
          "iopub.status.busy": "2022-07-25T16:09:43.556891Z",
          "iopub.execute_input": "2022-07-25T16:09:43.558261Z",
          "iopub.status.idle": "2022-07-25T16:09:43.747224Z",
          "shell.execute_reply.started": "2022-07-25T16:09:43.558218Z",
          "shell.execute_reply": "2022-07-25T16:09:43.746006Z"
        },
        "trusted": true,
        "id": "PuaL0ILW2y2z"
      },
      "execution_count": null,
      "outputs": []
    },
    {
      "cell_type": "markdown",
      "source": [
        "### 5.1 | Summary of the training model <a class =\"anchor\" id = \"modelSummary\"></a>\n",
        "[Back to Table of Contents](#modelAnchor)\n",
        "\n",
        "Here is our model summary so far."
      ],
      "metadata": {
        "id": "3Zy3PAg12y2z"
      }
    },
    {
      "cell_type": "code",
      "source": [
        "model.summary()"
      ],
      "metadata": {
        "execution": {
          "iopub.status.busy": "2022-07-25T16:09:49.7167Z",
          "iopub.execute_input": "2022-07-25T16:09:49.717117Z",
          "iopub.status.idle": "2022-07-25T16:09:49.725407Z",
          "shell.execute_reply.started": "2022-07-25T16:09:49.717081Z",
          "shell.execute_reply": "2022-07-25T16:09:49.723906Z"
        },
        "trusted": true,
        "id": "c9apUj892y2z"
      },
      "execution_count": null,
      "outputs": []
    },
    {
      "cell_type": "markdown",
      "source": [
        "### 5.2 | Visualization of the model <a class =\"anchor\" id = \"modelplot\"></a>\n",
        "[Back to Table of Contents](#modelAnchor)"
      ],
      "metadata": {
        "id": "HZ1W5F7H2y20"
      }
    },
    {
      "cell_type": "markdown",
      "source": [
        "In order to plot the model the graphviz should be installed.\n",
        "\n",
        "A model summary that describes the various layers defined in the model."
      ],
      "metadata": {
        "id": "Y0OXruaZ2y20"
      }
    },
    {
      "cell_type": "code",
      "source": [
        "tf.keras.utils.plot_model(\n",
        "    model,\n",
        "    show_shapes=True,\n",
        "    show_layer_names=True,\n",
        ")"
      ],
      "metadata": {
        "execution": {
          "iopub.status.busy": "2022-07-25T16:09:55.164749Z",
          "iopub.execute_input": "2022-07-25T16:09:55.165821Z",
          "iopub.status.idle": "2022-07-25T16:09:56.560402Z",
          "shell.execute_reply.started": "2022-07-25T16:09:55.165778Z",
          "shell.execute_reply": "2022-07-25T16:09:56.55888Z"
        },
        "trusted": true,
        "id": "yVbVSmh72y20"
      },
      "execution_count": null,
      "outputs": []
    },
    {
      "cell_type": "markdown",
      "source": [
        "### 5.3 | Compile the model using keras.optimizers.Adam <a class =\"anchor\" id = \"compileModel\"></a>\n",
        "[Back to Table of Contents](#modelAnchor)"
      ],
      "metadata": {
        "id": "NpSenleQ2y20"
      }
    },
    {
      "cell_type": "code",
      "source": [
        "adam_optimizer = tf.keras.optimizers.Adam(learning_rate=0.001)\n",
        "\n",
        "model.compile(\n",
        "    optimizer=adam_optimizer,\n",
        "    loss=tf.keras.losses.sparse_categorical_crossentropy,\n",
        "    metrics=['accuracy']\n",
        ")"
      ],
      "metadata": {
        "execution": {
          "iopub.status.busy": "2022-07-25T16:10:02.014724Z",
          "iopub.execute_input": "2022-07-25T16:10:02.015184Z",
          "iopub.status.idle": "2022-07-25T16:10:02.03475Z",
          "shell.execute_reply.started": "2022-07-25T16:10:02.015144Z",
          "shell.execute_reply": "2022-07-25T16:10:02.033891Z"
        },
        "trusted": true,
        "id": "9M_k2er02y20"
      },
      "execution_count": null,
      "outputs": []
    },
    {
      "cell_type": "markdown",
      "source": [
        "### 5.4 | Train the model <a class =\"anchor\" id =\"trainModel\"></a>\n",
        "[Back to Table of Contents](#modelAnchor)"
      ],
      "metadata": {
        "id": "T8fZCsQL2y20"
      }
    },
    {
      "cell_type": "code",
      "source": [
        "log_dir=\".logs/fit/\" + datetime.datetime.now().strftime(\"%Y%m%d-%H%M%S\")\n",
        "tensorboard_callback = tf.keras.callbacks.TensorBoard(log_dir=log_dir, histogram_freq=1)\n",
        "\n",
        "training_history = model.fit(\n",
        "    x_train_normalized,\n",
        "    y_train_re,\n",
        "    epochs=10,\n",
        "    validation_data=(x_validation_normalized, y_validation_re),\n",
        "    callbacks=[tensorboard_callback]\n",
        ")\n",
        "\n",
        "print(\"The model has successfully trained\")"
      ],
      "metadata": {
        "execution": {
          "iopub.status.busy": "2022-07-25T16:10:04.852258Z",
          "iopub.execute_input": "2022-07-25T16:10:04.853118Z",
          "iopub.status.idle": "2022-07-25T16:11:21.549708Z",
          "shell.execute_reply.started": "2022-07-25T16:10:04.853082Z",
          "shell.execute_reply": "2022-07-25T16:11:21.548274Z"
        },
        "trusted": true,
        "id": "mPVuLWc_2y20"
      },
      "execution_count": null,
      "outputs": []
    },
    {
      "cell_type": "markdown",
      "source": [
        "### In summary<a class =\"anchor\" id =\"modelBuildSummary\"></a>\n",
        "[Back to Table of Contents](#bcImp)"
      ],
      "metadata": {
        "id": "6_FTp_vv2y20"
      }
    },
    {
      "cell_type": "markdown",
      "source": [
        "## <span style='color:rgb(205, 0, 153)'> 6 | Model evaluation </span><a class =\"anchor\" id =\"modelEvaluation\"></a>\n",
        "<hr>\n",
        "\n",
        "[Back to Table of Contents](#modelAnchor)"
      ],
      "metadata": {
        "id": "EFevzI2M2y20"
      }
    },
    {
      "cell_type": "markdown",
      "source": [
        "### 6.1 | Loss plot curve for training and validation<a class=\"anchor\" id =\"lossPlot\"><a/>\n",
        "[Back to Table of Contents](#bcImp1)\n",
        "    \n",
        "Let's see how the loss function was changing during the training. We expect it to get smaller and smaller with every next epoch."
      ],
      "metadata": {
        "id": "pLo5E5NJ2y20"
      }
    },
    {
      "cell_type": "code",
      "source": [
        "plt.xlabel('Epoch Number')\n",
        "plt.ylabel('Accuracy')\n",
        "plt.plot(training_history.history['loss'], label='training set')\n",
        "plt.plot(training_history.history['val_loss'], label='validation set')\n",
        "plt.legend()"
      ],
      "metadata": {
        "execution": {
          "iopub.status.busy": "2022-07-25T16:11:36.353557Z",
          "iopub.execute_input": "2022-07-25T16:11:36.353981Z",
          "iopub.status.idle": "2022-07-25T16:11:36.553521Z",
          "shell.execute_reply.started": "2022-07-25T16:11:36.353934Z",
          "shell.execute_reply": "2022-07-25T16:11:36.552302Z"
        },
        "trusted": true,
        "id": "20kH4Xmy2y20"
      },
      "execution_count": null,
      "outputs": []
    },
    {
      "cell_type": "markdown",
      "source": [
        "### 6.2 | Accuracy plot curve for training and validation<a class=\"anchor\" id =\"accuracyPlot\"><a/>\n",
        "[Back to Table of Contents](#bcImp1)"
      ],
      "metadata": {
        "id": "u9Ah1SRu2y21"
      }
    },
    {
      "cell_type": "code",
      "source": [
        "plt.xlabel('Epoch Number')\n",
        "plt.ylabel('Accuracy')\n",
        "plt.plot(training_history.history['accuracy'], label='training set')\n",
        "plt.plot(training_history.history['val_accuracy'], label='validation set')\n",
        "plt.legend()"
      ],
      "metadata": {
        "execution": {
          "iopub.status.busy": "2022-07-25T16:11:42.727654Z",
          "iopub.execute_input": "2022-07-25T16:11:42.728164Z",
          "iopub.status.idle": "2022-07-25T16:11:42.942619Z",
          "shell.execute_reply.started": "2022-07-25T16:11:42.728126Z",
          "shell.execute_reply": "2022-07-25T16:11:42.94138Z"
        },
        "trusted": true,
        "id": "zPcxvYR12y21"
      },
      "execution_count": null,
      "outputs": []
    },
    {
      "cell_type": "markdown",
      "source": [
        "### 6.3 | Evaluation of the model accuracy<a class =\"anchor\" id =\"accuracyEvaluation\"></a>\n",
        "[Back to Table of Contents](#modelAnchor)\n",
        "\n",
        "We need to compare the accuracy of our model on training set and on valiation set. We expect our model to perform similarly on both sets. If the performance on a validation set will be poor comparing to a training set it would be an indicator for us that the model is overfitted and we have a \"high variance\" issue."
      ],
      "metadata": {
        "id": "PHES3F9z2y21"
      }
    },
    {
      "cell_type": "markdown",
      "source": [
        "### 6.3.1 | Performance of training dataset <a class =\"anchor\" id =\"perfTrain\"></a>\n",
        "[Back to Table of Contents](#modelAnchor)"
      ],
      "metadata": {
        "id": "DdybXZb-2y21"
      }
    },
    {
      "cell_type": "code",
      "source": [
        "%%capture\n",
        "train_loss, train_accuracy = model.evaluate(x_train_normalized, y_train_re)"
      ],
      "metadata": {
        "execution": {
          "iopub.status.busy": "2022-07-25T16:11:50.334909Z",
          "iopub.execute_input": "2022-07-25T16:11:50.335769Z",
          "iopub.status.idle": "2022-07-25T16:11:54.030858Z",
          "shell.execute_reply.started": "2022-07-25T16:11:50.335731Z",
          "shell.execute_reply": "2022-07-25T16:11:54.029539Z"
        },
        "trusted": true,
        "id": "xGk50toZ2y21"
      },
      "execution_count": null,
      "outputs": []
    },
    {
      "cell_type": "code",
      "source": [
        "print('Train loss: ', train_loss)\n",
        "print('Train accuracy: ', train_accuracy)"
      ],
      "metadata": {
        "execution": {
          "iopub.status.busy": "2022-07-25T16:11:54.03277Z",
          "iopub.execute_input": "2022-07-25T16:11:54.033131Z",
          "iopub.status.idle": "2022-07-25T16:11:54.039997Z",
          "shell.execute_reply.started": "2022-07-25T16:11:54.0331Z",
          "shell.execute_reply": "2022-07-25T16:11:54.038639Z"
        },
        "trusted": true,
        "id": "mYMWnGRx2y21"
      },
      "execution_count": null,
      "outputs": []
    },
    {
      "cell_type": "markdown",
      "source": [
        "### 6.3.2 | Performance of validation dataset <a class =\"anchor\" id =\"perfValidation\"></a>\n",
        "[Back to Table of Contents](#modelAnchor)"
      ],
      "metadata": {
        "id": "ZQb5Pw3z2y21"
      }
    },
    {
      "cell_type": "code",
      "source": [
        "%%capture\n",
        "validation_loss, validation_accuracy = model.evaluate(x_validation_normalized, y_validation_re)"
      ],
      "metadata": {
        "execution": {
          "iopub.status.busy": "2022-07-25T16:11:58.35549Z",
          "iopub.execute_input": "2022-07-25T16:11:58.355924Z",
          "iopub.status.idle": "2022-07-25T16:11:59.058871Z",
          "shell.execute_reply.started": "2022-07-25T16:11:58.355889Z",
          "shell.execute_reply": "2022-07-25T16:11:59.057518Z"
        },
        "trusted": true,
        "id": "jc-uCydw2y21"
      },
      "execution_count": null,
      "outputs": []
    },
    {
      "cell_type": "code",
      "source": [
        "print('Validation loss: ', validation_loss)\n",
        "print('Validation accuracy: ', validation_accuracy)"
      ],
      "metadata": {
        "execution": {
          "iopub.status.busy": "2022-07-25T16:12:01.32584Z",
          "iopub.execute_input": "2022-07-25T16:12:01.326964Z",
          "iopub.status.idle": "2022-07-25T16:12:01.333089Z",
          "shell.execute_reply.started": "2022-07-25T16:12:01.326898Z",
          "shell.execute_reply": "2022-07-25T16:12:01.331361Z"
        },
        "trusted": true,
        "id": "3GtBpnte2y21"
      },
      "execution_count": null,
      "outputs": []
    },
    {
      "cell_type": "markdown",
      "source": [
        "With a validation score of close to 99%, we proceed to use this model to predict for the test set."
      ],
      "metadata": {
        "id": "4XckXBKM2y22"
      }
    },
    {
      "cell_type": "markdown",
      "source": [
        "### 6.3.3 | Save and load the model<a class =\"anchor\" id =\"saveModel\"></a>\n",
        "[Back to Table of Contents](#modelAnchor)\n",
        "\n",
        "We will save the entire model to a HDF5 file. The .h5 extension of the file indicates that the model shuold be saved in Keras format as HDF5 file."
      ],
      "metadata": {
        "id": "iaDEjHf02y22"
      }
    },
    {
      "cell_type": "code",
      "source": [
        "model_name = 'digits_recognition_cnn.h5'\n",
        "model.save(model_name, save_format='h5')"
      ],
      "metadata": {
        "execution": {
          "iopub.status.busy": "2022-07-25T16:12:07.394629Z",
          "iopub.execute_input": "2022-07-25T16:12:07.39504Z",
          "iopub.status.idle": "2022-07-25T16:12:07.426894Z",
          "shell.execute_reply.started": "2022-07-25T16:12:07.39501Z",
          "shell.execute_reply": "2022-07-25T16:12:07.425742Z"
        },
        "trusted": true,
        "id": "Hfhfv_lz2y23"
      },
      "execution_count": null,
      "outputs": []
    },
    {
      "cell_type": "code",
      "source": [
        "loaded_model = tf.keras.models.load_model(model_name)"
      ],
      "metadata": {
        "execution": {
          "iopub.status.busy": "2022-07-25T16:12:11.094364Z",
          "iopub.execute_input": "2022-07-25T16:12:11.094771Z",
          "iopub.status.idle": "2022-07-25T16:12:11.199989Z",
          "shell.execute_reply.started": "2022-07-25T16:12:11.09474Z",
          "shell.execute_reply": "2022-07-25T16:12:11.198892Z"
        },
        "trusted": true,
        "id": "-6xYNQ932y23"
      },
      "execution_count": null,
      "outputs": []
    },
    {
      "cell_type": "markdown",
      "source": [
        "### 6.3.4 | Visualise validation predicted data on how the digits were written<a class =\"anchor\" id =\"visualizevalidation\"></a>\n",
        "[Back to Table of Contents](#modelAnchor)"
      ],
      "metadata": {
        "id": "WqxZQQao2y24"
      }
    },
    {
      "cell_type": "markdown",
      "source": [
        "To use the model that we've just trained for digits recognition we need to call predict() method."
      ],
      "metadata": {
        "id": "Z4nMrbWK2y24"
      }
    },
    {
      "cell_type": "code",
      "source": [
        "predictions_one_hot = loaded_model.predict([x_validation_normalized])"
      ],
      "metadata": {
        "execution": {
          "iopub.status.busy": "2022-07-25T10:09:00.817671Z",
          "iopub.execute_input": "2022-07-25T10:09:00.818428Z",
          "iopub.status.idle": "2022-07-25T10:09:01.496329Z",
          "shell.execute_reply.started": "2022-07-25T10:09:00.818382Z",
          "shell.execute_reply": "2022-07-25T10:09:01.49504Z"
        },
        "trusted": true,
        "id": "pbY70j8M2y24"
      },
      "execution_count": null,
      "outputs": []
    },
    {
      "cell_type": "code",
      "source": [
        "print('predictions_one_hot:', predictions_one_hot.shape)"
      ],
      "metadata": {
        "execution": {
          "iopub.status.busy": "2022-07-25T10:09:03.25147Z",
          "iopub.execute_input": "2022-07-25T10:09:03.251968Z",
          "iopub.status.idle": "2022-07-25T10:09:03.258697Z",
          "shell.execute_reply.started": "2022-07-25T10:09:03.251926Z",
          "shell.execute_reply": "2022-07-25T10:09:03.257431Z"
        },
        "trusted": true,
        "id": "Am-VQ1HL2y25"
      },
      "execution_count": null,
      "outputs": []
    },
    {
      "cell_type": "markdown",
      "source": [
        "Each prediction consists of 10 probabilities (one for each number from 0 to 9). We need to pick the digit with the highest probability since this would be a digit that our model most confident with."
      ],
      "metadata": {
        "id": "fxm5CcUw2y25"
      }
    },
    {
      "cell_type": "code",
      "source": [
        "# Predictions in form of one-hot vectors (arrays of probabilities).\n",
        "pd.DataFrame(predictions_one_hot)"
      ],
      "metadata": {
        "execution": {
          "iopub.status.busy": "2022-07-25T10:09:08.203678Z",
          "iopub.execute_input": "2022-07-25T10:09:08.204148Z",
          "iopub.status.idle": "2022-07-25T10:09:08.234018Z",
          "shell.execute_reply.started": "2022-07-25T10:09:08.204107Z",
          "shell.execute_reply": "2022-07-25T10:09:08.232825Z"
        },
        "trusted": true,
        "id": "S6ItYUR82y25"
      },
      "execution_count": null,
      "outputs": []
    },
    {
      "cell_type": "code",
      "source": [
        "# Let's extract predictions with highest probabilites and detect what digits have been actually recognized.\n",
        "predictions = np.argmax(predictions_one_hot, axis=1)\n",
        "pd.DataFrame(predictions)"
      ],
      "metadata": {
        "execution": {
          "iopub.status.busy": "2022-07-25T10:09:16.236079Z",
          "iopub.execute_input": "2022-07-25T10:09:16.236548Z",
          "iopub.status.idle": "2022-07-25T10:09:16.249207Z",
          "shell.execute_reply.started": "2022-07-25T10:09:16.236502Z",
          "shell.execute_reply": "2022-07-25T10:09:16.248066Z"
        },
        "trusted": true,
        "id": "JwxTSo9g2y28"
      },
      "execution_count": null,
      "outputs": []
    },
    {
      "cell_type": "markdown",
      "source": [
        "So our model is predicting that the first example from the validation set is 1."
      ],
      "metadata": {
        "id": "JtHo-AaJ2y28"
      }
    },
    {
      "cell_type": "markdown",
      "source": [
        "Let's print the first image from a validation set to see if model's prediction is correct."
      ],
      "metadata": {
        "id": "c-mKn-v72y29"
      }
    },
    {
      "cell_type": "code",
      "source": [
        "plt.imshow(x_validation_normalized[0].reshape((IMAGE_WIDTH, IMAGE_HEIGHT)), cmap=plt.cm.binary)\n",
        "plt.show()"
      ],
      "metadata": {
        "execution": {
          "iopub.status.busy": "2022-07-25T10:09:21.323318Z",
          "iopub.execute_input": "2022-07-25T10:09:21.323756Z",
          "iopub.status.idle": "2022-07-25T10:09:21.520247Z",
          "shell.execute_reply.started": "2022-07-25T10:09:21.323721Z",
          "shell.execute_reply": "2022-07-25T10:09:21.519031Z"
        },
        "trusted": true,
        "id": "xOwVhPBL2y29"
      },
      "execution_count": null,
      "outputs": []
    },
    {
      "cell_type": "markdown",
      "source": [
        "We see that our model made a correct prediction and it successfully recognized digit 1. Let's print some more test examples and correspondent predictions to see how model performs and where it does mistakes."
      ],
      "metadata": {
        "id": "gS_HRgHK2y29"
      }
    },
    {
      "cell_type": "code",
      "source": [
        "numbers_to_display = 196\n",
        "num_cells = math.ceil(math.sqrt(numbers_to_display))\n",
        "plt.figure(figsize=(15, 15))\n",
        "\n",
        "for plot_index in range(numbers_to_display):\n",
        "    predicted_label = predictions[plot_index]\n",
        "    plt.xticks([])\n",
        "    plt.yticks([])\n",
        "    plt.grid(False)\n",
        "    color_map = 'Greens' if predicted_label == y_validation_re[plot_index] else 'Reds'\n",
        "    plt.subplot(num_cells, num_cells, plot_index + 1)\n",
        "    plt.imshow(x_validation_normalized[plot_index].reshape((IMAGE_WIDTH, IMAGE_HEIGHT)), cmap=color_map)\n",
        "    plt.xlabel(predicted_label)\n",
        "\n",
        "plt.subplots_adjust(hspace=1, wspace=0.5)\n",
        "plt.show()"
      ],
      "metadata": {
        "execution": {
          "iopub.status.busy": "2022-07-25T10:09:25.982945Z",
          "iopub.execute_input": "2022-07-25T10:09:25.983397Z",
          "iopub.status.idle": "2022-07-25T10:09:35.410128Z",
          "shell.execute_reply.started": "2022-07-25T10:09:25.983359Z",
          "shell.execute_reply": "2022-07-25T10:09:35.408866Z"
        },
        "trusted": true,
        "id": "4Ux1HWqR2y29"
      },
      "execution_count": null,
      "outputs": []
    },
    {
      "cell_type": "markdown",
      "source": [
        "### 6.3.5 | Confusion matrix of validation dataset <a class = \"anchor\" id = \"cmValidation\"></a>\n",
        "[Back to Table of Contents](#modelAnchor)\n",
        "\n",
        "Confusion matrix shows what numbers are recognized well by the model and what numbers the model usually confuses to recognize correctly."
      ],
      "metadata": {
        "id": "uNwiIzep2y2-"
      }
    },
    {
      "cell_type": "code",
      "source": [
        "confusion_matrix = tf.math.confusion_matrix(y_validation_re, predictions)\n",
        "f, ax = plt.subplots(figsize=(9, 7))\n",
        "sn.heatmap(\n",
        "    confusion_matrix,\n",
        "    annot=True,\n",
        "    linewidths=.5,\n",
        "    fmt=\"d\",\n",
        "    square=True,\n",
        "    ax=ax\n",
        ")\n",
        "plt.show()"
      ],
      "metadata": {
        "execution": {
          "iopub.status.busy": "2022-07-25T10:09:36.691371Z",
          "iopub.execute_input": "2022-07-25T10:09:36.69176Z",
          "iopub.status.idle": "2022-07-25T10:09:37.330753Z",
          "shell.execute_reply.started": "2022-07-25T10:09:36.691725Z",
          "shell.execute_reply": "2022-07-25T10:09:37.329575Z"
        },
        "trusted": true,
        "id": "JTRe1ZYd2y2-"
      },
      "execution_count": null,
      "outputs": []
    },
    {
      "cell_type": "markdown",
      "source": [
        "### In summary<a class=\"anchor\" id =\"modelEvaluationSummary\"></a>\n",
        "[Back to Table of Contents](#modelAnchor)"
      ],
      "metadata": {
        "id": "qYyXK0LR2y2_"
      }
    },
    {
      "cell_type": "markdown",
      "source": [
        "## <span style='color:rgb(205, 0, 153)'> 7 | Model prediction on unseen dataset (test data) </span><a class=\"anchor\" id =\"modelprediction\"></a>\n",
        "<hr>\n",
        "\n",
        "[Back to Table of Contents](#modelAnchor)"
      ],
      "metadata": {
        "id": "7T5cwaYp2y2_"
      }
    },
    {
      "cell_type": "code",
      "source": [
        "predictions_one_hot = loaded_model.predict([x_test_normalized])\n",
        "print('predictions_one_hot:', predictions_one_hot.shape)"
      ],
      "metadata": {
        "execution": {
          "iopub.status.busy": "2022-07-15T19:57:36.142374Z",
          "iopub.execute_input": "2022-07-15T19:57:36.142798Z",
          "iopub.status.idle": "2022-07-15T19:57:39.382186Z",
          "shell.execute_reply.started": "2022-07-15T19:57:36.142766Z",
          "shell.execute_reply": "2022-07-15T19:57:39.38095Z"
        },
        "trusted": true,
        "id": "hHTIG08X2y2_"
      },
      "execution_count": null,
      "outputs": []
    },
    {
      "cell_type": "markdown",
      "source": [
        "Each prediction has ten probabilities (one for each number from 0 to 9). We need to choose the digit with the highest probability."
      ],
      "metadata": {
        "id": "CJ-Q2ZHE2y3A"
      }
    },
    {
      "cell_type": "markdown",
      "source": [
        "#### Predicted probabilities of all digits."
      ],
      "metadata": {
        "id": "pOcGGheY2y3A"
      }
    },
    {
      "cell_type": "code",
      "source": [
        "pd.DataFrame(predictions_one_hot)"
      ],
      "metadata": {
        "execution": {
          "iopub.status.busy": "2022-07-13T12:35:46.832378Z",
          "iopub.execute_input": "2022-07-13T12:35:46.832765Z",
          "iopub.status.idle": "2022-07-13T12:35:46.855391Z",
          "shell.execute_reply.started": "2022-07-13T12:35:46.832732Z",
          "shell.execute_reply": "2022-07-13T12:35:46.854318Z"
        },
        "trusted": true,
        "id": "Ifj8uRl72y3A"
      },
      "execution_count": null,
      "outputs": []
    },
    {
      "cell_type": "markdown",
      "source": [
        "### 7.1 | Visualise test predicted data how the digits were written<a class=\"anchor\" id=\"visualizePredict\"></a>\n",
        "[Back to Table of Contents](#modelAnchor)\n",
        "\n",
        "Predicted digits with highest probabilites"
      ],
      "metadata": {
        "id": "lFk4AF232y3A"
      }
    },
    {
      "cell_type": "markdown",
      "source": [
        "#### Actual first digit from the test data"
      ],
      "metadata": {
        "id": "vK90IYRQ2y3B"
      }
    },
    {
      "cell_type": "code",
      "source": [
        "plt.imshow(x_test_normalized[0].reshape((IMAGE_WIDTH, IMAGE_HEIGHT)), cmap=plt.cm.binary)\n",
        "plt.show()"
      ],
      "metadata": {
        "execution": {
          "iopub.status.busy": "2022-07-15T19:57:42.410256Z",
          "iopub.execute_input": "2022-07-15T19:57:42.410941Z",
          "iopub.status.idle": "2022-07-15T19:57:42.595864Z",
          "shell.execute_reply.started": "2022-07-15T19:57:42.410904Z",
          "shell.execute_reply": "2022-07-15T19:57:42.594531Z"
        },
        "trusted": true,
        "id": "BNvBeaRb2y3B"
      },
      "execution_count": null,
      "outputs": []
    },
    {
      "cell_type": "markdown",
      "source": [
        "So our model is predicting that the first example from the test data is 2."
      ],
      "metadata": {
        "id": "i8_ARTnh2y3B"
      }
    },
    {
      "cell_type": "markdown",
      "source": [
        "### <span style='color:rgb(205, 0, 153)'>8 | Submission </span> <a class =\"anchor\" id =\"submission\"></a>\n",
        "<hr>\n",
        "\n",
        "[Back to Table of Contents](#modelAnchor)"
      ],
      "metadata": {
        "id": "b-ASH06E2y3C"
      }
    },
    {
      "cell_type": "code",
      "source": [
        "test_pred = pd.DataFrame( loaded_model.predict([x_test_normalized]))\n",
        "test_pred = pd.DataFrame(test_pred.idxmax(axis = 1))\n",
        "test_pred.index.name = 'ImageId'\n",
        "test_pred = test_pred.rename(columns = {0: 'Label'}).reset_index()\n",
        "test_pred['ImageId'] = test_pred['ImageId'] + 1\n",
        "\n",
        "test_pred.head()"
      ],
      "metadata": {
        "execution": {
          "iopub.status.busy": "2022-07-15T19:57:52.115641Z",
          "iopub.execute_input": "2022-07-15T19:57:52.117111Z",
          "iopub.status.idle": "2022-07-15T19:57:54.810538Z",
          "shell.execute_reply.started": "2022-07-15T19:57:52.117024Z",
          "shell.execute_reply": "2022-07-15T19:57:54.80894Z"
        },
        "trusted": true,
        "id": "lWXUmce72y3C"
      },
      "execution_count": null,
      "outputs": []
    },
    {
      "cell_type": "code",
      "source": [
        "test_pred.to_csv('submission.csv', index = False)"
      ],
      "metadata": {
        "execution": {
          "iopub.status.busy": "2022-07-15T19:57:59.401535Z",
          "iopub.execute_input": "2022-07-15T19:57:59.402087Z",
          "iopub.status.idle": "2022-07-15T19:57:59.466498Z",
          "shell.execute_reply.started": "2022-07-15T19:57:59.402041Z",
          "shell.execute_reply": "2022-07-15T19:57:59.465148Z"
        },
        "trusted": true,
        "id": "_1IoXnM-2y3C"
      },
      "execution_count": null,
      "outputs": []
    },
    {
      "cell_type": "markdown",
      "source": [
        "<span style='color:rgb(205, 0, 153)'>__Many thanks for reading my kernal!__🙏\n",
        "\n",
        "<span style='color:rgb(205, 0, 153)'>__Please leave a comment if you have any suggestions for improving the analysis!__🏋🥇\n",
        "\n",
        "<span style='color:rgb(0,204,0)'>__If you liked 😊 my kernel, give 👍 UPVOTE!__\n",
        "\n",
        "<span style='color:rgb(205, 0, 153)'>__If you have a moment, I encourage you to see my other [kernels](https://www.kaggle.com/itsmohammadshahid/code?scroll=true).__"
      ],
      "metadata": {
        "id": "NGJPExA22y3D"
      }
    }
  ]
}